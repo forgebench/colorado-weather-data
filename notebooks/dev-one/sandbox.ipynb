{
 "cells": [
  {
   "cell_type": "code",
   "execution_count": 1,
   "metadata": {
    "collapsed": true
   },
   "outputs": [
    {
     "name": "stderr",
     "output_type": "stream",
     "text": [
      "H:\\github\\weld-county-weather-accidents\\venv\\Lib\\site-packages\\numpy\\_distributor_init.py:30: UserWarning: loaded more than 1 DLL from .libs:\n",
      "H:\\github\\weld-county-weather-accidents\\venv\\Lib\\site-packages\\numpy\\.libs\\libopenblas.FB5AE2TYXYH2IJRDKGDGQ3XBKLKTF43H (1).gfortran-win_amd64.dll\n",
      "H:\\github\\weld-county-weather-accidents\\venv\\Lib\\site-packages\\numpy\\.libs\\libopenblas.FB5AE2TYXYH2IJRDKGDGQ3XBKLKTF43H.gfortran-win_amd64.dll\n",
      "  warnings.warn(\"loaded more than 1 DLL from .libs:\"\n"
     ]
    }
   ],
   "source": [
    "import numpy as np\n",
    "import pandas as pd\n",
    "import matplotlib.pyplot as plt"
   ]
  },
  {
   "cell_type": "code",
   "execution_count": 2,
   "outputs": [],
   "source": [
    "df_denver = pd.read_csv('df_denver.csv', low_memory=False)"
   ],
   "metadata": {
    "collapsed": false
   }
  },
  {
   "cell_type": "code",
   "execution_count": 3,
   "outputs": [
    {
     "data": {
      "text/plain": "524090"
     },
     "execution_count": 3,
     "metadata": {},
     "output_type": "execute_result"
    }
   ],
   "source": [
    "df_denver.INJLEVEL_1.sum()"
   ],
   "metadata": {
    "collapsed": false
   }
  },
  {
   "cell_type": "code",
   "execution_count": 4,
   "outputs": [
    {
     "data": {
      "text/plain": "44287"
     },
     "execution_count": 4,
     "metadata": {},
     "output_type": "execute_result"
    }
   ],
   "source": [
    "df_denver.INJLEVEL_2.sum()"
   ],
   "metadata": {
    "collapsed": false
   }
  },
  {
   "cell_type": "code",
   "execution_count": 5,
   "outputs": [
    {
     "data": {
      "text/plain": "21167"
     },
     "execution_count": 5,
     "metadata": {},
     "output_type": "execute_result"
    }
   ],
   "source": [
    "df_denver.INJLEVEL_3.sum()"
   ],
   "metadata": {
    "collapsed": false
   }
  },
  {
   "cell_type": "code",
   "execution_count": 6,
   "outputs": [],
   "source": [
    "injury_sums = {'1': df_denver.INJLEVEL_1.sum(), '2': df_denver.INJLEVEL_2.sum(), '3': df_denver.INJLEVEL_3.sum(), '4': df_denver.INJLEVEL_4.sum(), '5': df_denver.INJLEVEL_5.sum()}\n"
   ],
   "metadata": {
    "collapsed": false
   }
  },
  {
   "cell_type": "code",
   "execution_count": 7,
   "outputs": [],
   "source": [
    "injury_counts = pd.DataFrame(data=injury_sums, index=[0] )"
   ],
   "metadata": {
    "collapsed": false
   }
  },
  {
   "cell_type": "code",
   "execution_count": 8,
   "outputs": [],
   "source": [
    "injury_counts = injury_counts.T"
   ],
   "metadata": {
    "collapsed": false
   }
  },
  {
   "cell_type": "code",
   "execution_count": 9,
   "outputs": [
    {
     "data": {
      "text/plain": "        0\n1  524090\n2   44287\n3   21167\n4    7462\n5     639",
      "text/html": "<div>\n<style scoped>\n    .dataframe tbody tr th:only-of-type {\n        vertical-align: middle;\n    }\n\n    .dataframe tbody tr th {\n        vertical-align: top;\n    }\n\n    .dataframe thead th {\n        text-align: right;\n    }\n</style>\n<table border=\"1\" class=\"dataframe\">\n  <thead>\n    <tr style=\"text-align: right;\">\n      <th></th>\n      <th>0</th>\n    </tr>\n  </thead>\n  <tbody>\n    <tr>\n      <th>1</th>\n      <td>524090</td>\n    </tr>\n    <tr>\n      <th>2</th>\n      <td>44287</td>\n    </tr>\n    <tr>\n      <th>3</th>\n      <td>21167</td>\n    </tr>\n    <tr>\n      <th>4</th>\n      <td>7462</td>\n    </tr>\n    <tr>\n      <th>5</th>\n      <td>639</td>\n    </tr>\n  </tbody>\n</table>\n</div>"
     },
     "execution_count": 9,
     "metadata": {},
     "output_type": "execute_result"
    }
   ],
   "source": [
    "injury_counts"
   ],
   "metadata": {
    "collapsed": false
   }
  },
  {
   "cell_type": "code",
   "execution_count": 10,
   "outputs": [],
   "source": [
    "injury_multiplier = []\n",
    "for i in range(1, 6):\n",
    "    mult = i * np.sqrt(i)\n",
    "    injury_multiplier.append(round(mult, 2))"
   ],
   "metadata": {
    "collapsed": false
   }
  },
  {
   "cell_type": "code",
   "execution_count": 11,
   "outputs": [],
   "source": [
    "injury_counts.rename(columns={0: 'SUMS'}, inplace=True)"
   ],
   "metadata": {
    "collapsed": false
   }
  },
  {
   "cell_type": "code",
   "execution_count": 12,
   "outputs": [],
   "source": [
    "injury_counts['MULTIPLIER'] = injury_multiplier"
   ],
   "metadata": {
    "collapsed": false
   }
  },
  {
   "cell_type": "code",
   "execution_count": 13,
   "outputs": [],
   "source": [
    "injury_post_weighting = injury_counts['SUMS'] * injury_counts['MULTIPLIER']"
   ],
   "metadata": {
    "collapsed": false
   }
  },
  {
   "cell_type": "code",
   "execution_count": 14,
   "outputs": [],
   "source": [
    "injury_counts['WEIGHTED'] = round(injury_post_weighting)"
   ],
   "metadata": {
    "collapsed": false
   }
  },
  {
   "cell_type": "code",
   "execution_count": 15,
   "outputs": [
    {
     "data": {
      "text/plain": "     SUMS  MULTIPLIER  WEIGHTED\n1  524090        1.00  524090.0\n2   44287        2.83  125332.0\n3   21167        5.20  110068.0\n4    7462        8.00   59696.0\n5     639       11.18    7144.0",
      "text/html": "<div>\n<style scoped>\n    .dataframe tbody tr th:only-of-type {\n        vertical-align: middle;\n    }\n\n    .dataframe tbody tr th {\n        vertical-align: top;\n    }\n\n    .dataframe thead th {\n        text-align: right;\n    }\n</style>\n<table border=\"1\" class=\"dataframe\">\n  <thead>\n    <tr style=\"text-align: right;\">\n      <th></th>\n      <th>SUMS</th>\n      <th>MULTIPLIER</th>\n      <th>WEIGHTED</th>\n    </tr>\n  </thead>\n  <tbody>\n    <tr>\n      <th>1</th>\n      <td>524090</td>\n      <td>1.00</td>\n      <td>524090.0</td>\n    </tr>\n    <tr>\n      <th>2</th>\n      <td>44287</td>\n      <td>2.83</td>\n      <td>125332.0</td>\n    </tr>\n    <tr>\n      <th>3</th>\n      <td>21167</td>\n      <td>5.20</td>\n      <td>110068.0</td>\n    </tr>\n    <tr>\n      <th>4</th>\n      <td>7462</td>\n      <td>8.00</td>\n      <td>59696.0</td>\n    </tr>\n    <tr>\n      <th>5</th>\n      <td>639</td>\n      <td>11.18</td>\n      <td>7144.0</td>\n    </tr>\n  </tbody>\n</table>\n</div>"
     },
     "execution_count": 15,
     "metadata": {},
     "output_type": "execute_result"
    }
   ],
   "source": [
    "injury_counts"
   ],
   "metadata": {
    "collapsed": false
   }
  },
  {
   "cell_type": "code",
   "execution_count": 27,
   "outputs": [],
   "source": [
    "def injury_weightings(passed_df):\n",
    "    injury_sums = {'1': passed_df.INJLEVEL_1.sum(), '2': passed_df.INJLEVEL_2.sum(), '3': passed_df.INJLEVEL_3.sum(), '4': passed_df.INJLEVEL_4.sum(), '5': passed_df.INJLEVEL_5.sum()}\n",
    "\n",
    "    returned_df_name = pd.DataFrame(data=injury_sums, index=[0] )\n",
    "    print(returned_df_name)\n",
    "    returned_df_name = returned_df_name.T\n",
    "    print(returned_df_name)\n",
    "    injury_multiplier = []\n",
    "    for i in range(1, 6):\n",
    "        mult = i * np.sqrt(i)\n",
    "        injury_multiplier.append(round(mult, 2))\n",
    "\n",
    "    returned_df_name.rename(columns={0: 'SUMS'}, inplace=True)\n",
    "    print(returned_df_name)\n",
    "    returned_df_name['MULTIPLIER'] = injury_multiplier\n",
    "\n",
    "    injury_post_weighting = returned_df_name['SUMS'] * returned_df_name['MULTIPLIER']\n",
    "\n",
    "    returned_df_name['WEIGHTED'] = round(injury_post_weighting)\n",
    "\n",
    "    return returned_df_name"
   ],
   "metadata": {
    "collapsed": false
   }
  },
  {
   "cell_type": "code",
   "execution_count": 28,
   "outputs": [
    {
     "name": "stdout",
     "output_type": "stream",
     "text": [
      "        1      2      3     4    5\n",
      "0  524090  44287  21167  7462  639\n",
      "        0\n",
      "1  524090\n",
      "2   44287\n",
      "3   21167\n",
      "4    7462\n",
      "5     639\n",
      "     SUMS\n",
      "1  524090\n",
      "2   44287\n",
      "3   21167\n",
      "4    7462\n",
      "5     639\n"
     ]
    }
   ],
   "source": [
    "injury_weighting_df = injury_weightings(df_denver)"
   ],
   "metadata": {
    "collapsed": false
   }
  },
  {
   "cell_type": "code",
   "execution_count": 29,
   "outputs": [
    {
     "data": {
      "text/plain": "     SUMS  MULTIPLIER  WEIGHTED\n1  524090        1.00  524090.0\n2   44287        2.83  125332.0\n3   21167        5.20  110068.0\n4    7462        8.00   59696.0\n5     639       11.18    7144.0",
      "text/html": "<div>\n<style scoped>\n    .dataframe tbody tr th:only-of-type {\n        vertical-align: middle;\n    }\n\n    .dataframe tbody tr th {\n        vertical-align: top;\n    }\n\n    .dataframe thead th {\n        text-align: right;\n    }\n</style>\n<table border=\"1\" class=\"dataframe\">\n  <thead>\n    <tr style=\"text-align: right;\">\n      <th></th>\n      <th>SUMS</th>\n      <th>MULTIPLIER</th>\n      <th>WEIGHTED</th>\n    </tr>\n  </thead>\n  <tbody>\n    <tr>\n      <th>1</th>\n      <td>524090</td>\n      <td>1.00</td>\n      <td>524090.0</td>\n    </tr>\n    <tr>\n      <th>2</th>\n      <td>44287</td>\n      <td>2.83</td>\n      <td>125332.0</td>\n    </tr>\n    <tr>\n      <th>3</th>\n      <td>21167</td>\n      <td>5.20</td>\n      <td>110068.0</td>\n    </tr>\n    <tr>\n      <th>4</th>\n      <td>7462</td>\n      <td>8.00</td>\n      <td>59696.0</td>\n    </tr>\n    <tr>\n      <th>5</th>\n      <td>639</td>\n      <td>11.18</td>\n      <td>7144.0</td>\n    </tr>\n  </tbody>\n</table>\n</div>"
     },
     "execution_count": 29,
     "metadata": {},
     "output_type": "execute_result"
    }
   ],
   "source": [
    "injury_weighting_df"
   ],
   "metadata": {
    "collapsed": false
   }
  },
  {
   "cell_type": "code",
   "execution_count": null,
   "outputs": [],
   "source": [],
   "metadata": {
    "collapsed": false
   }
  }
 ],
 "metadata": {
  "kernelspec": {
   "display_name": "Python 3",
   "language": "python",
   "name": "python3"
  },
  "language_info": {
   "codemirror_mode": {
    "name": "ipython",
    "version": 2
   },
   "file_extension": ".py",
   "mimetype": "text/x-python",
   "name": "python",
   "nbconvert_exporter": "python",
   "pygments_lexer": "ipython2",
   "version": "2.7.6"
  }
 },
 "nbformat": 4,
 "nbformat_minor": 0
}
